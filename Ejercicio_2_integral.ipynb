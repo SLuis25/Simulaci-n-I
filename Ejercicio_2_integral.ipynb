{
  "nbformat": 4,
  "nbformat_minor": 0,
  "metadata": {
    "colab": {
      "provenance": [],
      "authorship_tag": "ABX9TyPzdi20+2vQXx0pzY7ODgHy",
      "include_colab_link": true
    },
    "kernelspec": {
      "name": "python3",
      "display_name": "Python 3"
    },
    "language_info": {
      "name": "python"
    }
  },
  "cells": [
    {
      "cell_type": "markdown",
      "metadata": {
        "id": "view-in-github",
        "colab_type": "text"
      },
      "source": [
        "<a href=\"https://colab.research.google.com/github/SLuis25/Simulaci-n-I/blob/main/Ejercicio_2_integral.ipynb\" target=\"_parent\"><img src=\"https://colab.research.google.com/assets/colab-badge.svg\" alt=\"Open In Colab\"/></a>"
      ]
    },
    {
      "cell_type": "code",
      "execution_count": 2,
      "metadata": {
        "id": "NtUWEOBZiS6B"
      },
      "outputs": [],
      "source": [
        "import random as rd\n",
        "import matplotlib.pyplot as plt\n",
        "import math\n",
        "import numpy as np"
      ]
    },
    {
      "cell_type": "code",
      "source": [
        "def inversa(n):\n",
        "  x=[]\n",
        "  for i in range(n):\n",
        "    R = rd.random()\n",
        "    if 0 <= R <= 0.5:\n",
        "      x.append(math.sqrt(2*R))\n",
        "    else:\n",
        "      x.append(2*R)\n",
        "  return x"
      ],
      "metadata": {
        "id": "oP4q3dXpiiL8"
      },
      "execution_count": 4,
      "outputs": []
    },
    {
      "cell_type": "code",
      "source": [
        "a=inversa(10000)"
      ],
      "metadata": {
        "id": "b6u7UmO8jfLt"
      },
      "execution_count": 6,
      "outputs": []
    },
    {
      "cell_type": "code",
      "source": [
        "plt.hist(a,bins=100)"
      ],
      "metadata": {
        "colab": {
          "base_uri": "https://localhost:8080/",
          "height": 985
        },
        "id": "jkTc-CgmjfBQ",
        "outputId": "88f875d4-e100-4a67-a220-03941c620a27"
      },
      "execution_count": 8,
      "outputs": [
        {
          "output_type": "execute_result",
          "data": {
            "text/plain": [
              "(array([  9.,   7.,  10.,  16.,  24.,  22.,  25.,  38.,  35.,  40.,  35.,\n",
              "         60.,  50.,  45.,  65.,  62.,  68.,  68.,  72.,  75.,  69.,  96.,\n",
              "        109.,  67.,  88., 110.,  89., 122., 119., 121., 126., 120., 147.,\n",
              "        142., 155., 149., 170., 150., 134., 138., 175., 169., 175., 161.,\n",
              "        171., 181., 214., 182., 213., 148.,  88.,  91.,  82.,  85., 108.,\n",
              "         94.,  91.,  85., 104.,  98.,  91.,  96.,  89., 104., 105., 100.,\n",
              "         94., 114., 117.,  92., 107., 104., 104.,  96.,  99., 110., 101.,\n",
              "        104., 107., 111., 106.,  97.,  93.,  89., 104., 116., 113., 111.,\n",
              "        112.,  87., 100.,  98., 102.,  93.,  92.,  85.,  90., 105.,  88.,\n",
              "        112.]),\n",
              " array([0.01743892, 0.03726399, 0.05708906, 0.07691413, 0.0967392 ,\n",
              "        0.11656427, 0.13638934, 0.15621441, 0.17603948, 0.19586455,\n",
              "        0.21568962, 0.23551469, 0.25533976, 0.27516483, 0.2949899 ,\n",
              "        0.31481497, 0.33464004, 0.35446511, 0.37429018, 0.39411525,\n",
              "        0.41394032, 0.43376539, 0.45359046, 0.47341553, 0.4932406 ,\n",
              "        0.51306567, 0.53289074, 0.55271581, 0.57254088, 0.59236595,\n",
              "        0.61219102, 0.63201609, 0.65184116, 0.67166623, 0.6914913 ,\n",
              "        0.71131637, 0.73114144, 0.75096651, 0.77079158, 0.79061665,\n",
              "        0.81044172, 0.83026679, 0.85009186, 0.86991693, 0.889742  ,\n",
              "        0.90956707, 0.92939214, 0.94921721, 0.96904228, 0.98886735,\n",
              "        1.00869242, 1.02851749, 1.04834256, 1.06816763, 1.0879927 ,\n",
              "        1.10781777, 1.12764284, 1.14746791, 1.16729298, 1.18711806,\n",
              "        1.20694313, 1.2267682 , 1.24659327, 1.26641834, 1.28624341,\n",
              "        1.30606848, 1.32589355, 1.34571862, 1.36554369, 1.38536876,\n",
              "        1.40519383, 1.4250189 , 1.44484397, 1.46466904, 1.48449411,\n",
              "        1.50431918, 1.52414425, 1.54396932, 1.56379439, 1.58361946,\n",
              "        1.60344453, 1.6232696 , 1.64309467, 1.66291974, 1.68274481,\n",
              "        1.70256988, 1.72239495, 1.74222002, 1.76204509, 1.78187016,\n",
              "        1.80169523, 1.8215203 , 1.84134537, 1.86117044, 1.88099551,\n",
              "        1.90082058, 1.92064565, 1.94047072, 1.96029579, 1.98012086,\n",
              "        1.99994593]),\n",
              " <BarContainer object of 100 artists>)"
            ]
          },
          "metadata": {},
          "execution_count": 8
        },
        {
          "output_type": "display_data",
          "data": {
            "text/plain": [
              "<Figure size 640x480 with 1 Axes>"
            ],
            "image/png": "[encoded data removed]"
          },
          "metadata": {}
        }
      ]
    },
    {
      "cell_type": "code",
      "source": [
        "print(np.mean(a))"
      ],
      "metadata": {
        "colab": {
          "base_uri": "https://localhost:8080/"
        },
        "id": "7O3t0LYCkB0J",
        "outputId": "f399e751-36d0-4a9a-eed7-40e2e41d3d01"
      },
      "execution_count": 12,
      "outputs": [
        {
          "output_type": "stream",
          "name": "stdout",
          "text": [
            "1.088801980336853\n"
          ]
        }
      ]
    },
    {
      "cell_type": "code",
      "source": [
        "print(np.var(a))"
      ],
      "metadata": {
        "colab": {
          "base_uri": "https://localhost:8080/"
        },
        "id": "k8rLdS5ikhku",
        "outputId": "3179395e-5849-45e5-f6dc-c615d3e673e9"
      },
      "execution_count": 13,
      "outputs": [
        {
          "output_type": "stream",
          "name": "stdout",
          "text": [
            "0.24161310206004669\n"
          ]
        }
      ]
    }
  ]
}