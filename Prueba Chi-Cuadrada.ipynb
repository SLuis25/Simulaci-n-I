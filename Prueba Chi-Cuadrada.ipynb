{
  "nbformat": 4,
  "nbformat_minor": 0,
  "metadata": {
    "colab": {
      "provenance": [],
      "authorship_tag": "ABX9TyMfNp67naLqke8a23qmQD0P",
      "include_colab_link": true
    },
    "kernelspec": {
      "name": "python3",
      "display_name": "Python 3"
    },
    "language_info": {
      "name": "python"
    }
  },
  "cells": [
    {
      "cell_type": "markdown",
      "metadata": {
        "id": "view-in-github",
        "colab_type": "text"
      },
      "source": [
        "<a href=\"https://colab.research.google.com/github/SLuis25/Simulaci-n-I/blob/main/Prueba%20Chi-Cuadrada.ipynb\" target=\"_parent\"><img src=\"https://colab.research.google.com/assets/colab-badge.svg\" alt=\"Open In Colab\"/></a>"
      ]
    },
    {
      "cell_type": "code",
      "execution_count": 1,
      "metadata": {
        "colab": {
          "base_uri": "https://localhost:8080/"
        },
        "id": "XZ8Mfy0RHE7X",
        "outputId": "9f1db7bd-2735-49c4-9dd2-2fec3c428fb4"
      },
      "outputs": [
        {
          "output_type": "stream",
          "name": "stdout",
          "text": [
            "El valor crítico es: 9.487729036781154 con un nivel de significancia del 95% y 4 grados de libertad\n",
            "+-----------------+---------+---------+-----------------+---------------------+-------------------------------+\n",
            "| Intervalo       | f_obs   | f_esp   | f_obs - f_esp   | (f_obs - f_esp)^2   |   ((f_obs - f_esp)^2 / f_esp) |\n",
            "+=================+=========+=========+=================+=====================+===============================+\n",
            "| (0 - 0.19999)   | 21      | 20      | 1               | 1                   |                          0.05 |\n",
            "+-----------------+---------+---------+-----------------+---------------------+-------------------------------+\n",
            "| (0.2 - 0.39999) | 22      | 20      | 2               | 4                   |                          0.2  |\n",
            "+-----------------+---------+---------+-----------------+---------------------+-------------------------------+\n",
            "| (0.4 - 0.59999) | 19      | 20      | -1              | 1                   |                          0.05 |\n",
            "+-----------------+---------+---------+-----------------+---------------------+-------------------------------+\n",
            "| (0.6 - 0.79999) | 23      | 20      | 3               | 9                   |                          0.45 |\n",
            "+-----------------+---------+---------+-----------------+---------------------+-------------------------------+\n",
            "| (0.8 - 1.0)     | 15      | 20      | -5              | 25                  |                          1.25 |\n",
            "+-----------------+---------+---------+-----------------+---------------------+-------------------------------+\n",
            "| chi^2           |         |         |                 |                     |                          2    |\n",
            "+-----------------+---------+---------+-----------------+---------------------+-------------------------------+\n",
            "Dado que: 2.0 < 9.487729036781154 \n",
            " = chi^2 < Valor critico \n",
            " No se rechaza la hipótesis nula H_0\n",
            "H_0: No hay diferencia entre las proporciones de cada número\n"
          ]
        }
      ],
      "source": [
        "import tabulate\n",
        "import matplotlib.pyplot as plt\n",
        "import numpy as np\n",
        "from scipy.stats import chi2\n",
        "\n",
        "# Definición de las variables\n",
        "frec_1 = 0\n",
        "frec_2 = 0\n",
        "frec_3 = 0\n",
        "frec_4 = 0\n",
        "frec_5 = 0\n",
        "\n",
        "observed_freqs = [frec_1, frec_2, frec_3, frec_4, frec_5]\n",
        "expected_freqs = [20, 20, 20, 20, 20]  # Frecuencia esperada por intervalo\n",
        "\n",
        "degrees_of_freedom = 4  # Grados de libertad\n",
        "\n",
        "diff_freqs = [0, 0, 0, 0, 0]  # Diferencia entre f_observada y f_esperada\n",
        "diff_freqs_squared = [0, 0, 0, 0, 0]  # Diferencia al cuadrado\n",
        "quotient_diff_squared_expected = [0, 0, 0, 0, 0]  # Cociente para el cálculo de chi-cuadrado\n",
        "chi_square_sum = 0  # Inicialización del estadístico chi-cuadrado\n",
        "\n",
        "# Lista de datos generados aleatoriamente\n",
        "data_values = [\n",
        "    0.78961, 0.05230, 0.10699, 0.55877, 0.14161,\n",
        "    0.76086, 0.12079, 0.27738, 0.65726, 0.79269,\n",
        "    0.80548, 0.82654, 0.29453, 0.20852, 0.42989,\n",
        "    0.58518, 0.98611, 0.34488, 0.34358, 0.11537,\n",
        "    0.89898, 0.57880, 0.67621, 0.05010, 0.00121,\n",
        "    0.28269, 0.73059, 0.70119, 0.18284, 0.49962,\n",
        "    0.38618, 0.76910, 0.68334, 0.55170, 0.10850,\n",
        "    0.79982, 0.45679, 0.21631, 0.87616, 0.55743,\n",
        "    0.58962, 0.33216, 0.03185, 0.61168, 0.09264,\n",
        "    0.69623, 0.17028, 0.05475, 0.91512, 0.76262,\n",
        "    0.29931, 0.30861, 0.83358, 0.51781, 0.03272,\n",
        "    0.57410, 0.26593, 0.85903, 0.43308, 0.35286,\n",
        "    0.24000, 0.65559, 0.38507, 0.90829, 0.94187,\n",
        "    0.93655, 0.88809, 0.81772, 0.36982, 0.19904,\n",
        "    0.54325, 0.62400, 0.09133, 0.41678, 0.33954,\n",
        "    0.58244, 0.85853, 0.88752, 0.33729, 0.15506,\n",
        "    0.23949, 0.53559, 0.33381, 0.49383, 0.75103,\n",
        "    0.19962, 0.65002, 0.74579, 0.79113, 0.63453,\n",
        "    0.19147, 0.40644, 0.08128, 0.73435, 0.22724,\n",
        "    0.22287, 0.07281, 0.64183, 0.44267, 0.72102\n",
        "]\n",
        "\n",
        "# Conteo de los números dentro de cada clase con un ciclo for\n",
        "for value in data_values:\n",
        "    if 0 < value < 0.19999:\n",
        "        frec_1 += 1\n",
        "    elif 0.2 < value < 0.39999:\n",
        "        frec_2 += 1\n",
        "    elif 0.4 < value < 0.59999:\n",
        "        frec_3 += 1\n",
        "    elif 0.6 < value < 0.79999:\n",
        "        frec_4 += 1\n",
        "    else:\n",
        "        frec_5 += 1\n",
        "\n",
        "# Asignamos las frecuencias observadas a la lista\n",
        "observed_freqs[0] = frec_1\n",
        "observed_freqs[1] = frec_2\n",
        "observed_freqs[2] = frec_3\n",
        "observed_freqs[3] = frec_4\n",
        "observed_freqs[4] = frec_5\n",
        "\n",
        "# Cálculo del valor crítico del chi-cuadrado para 95% de confianza\n",
        "critical_value = chi2.ppf(0.95, degrees_of_freedom)\n",
        "print(\"El valor crítico es:\", critical_value, \"con un nivel de significancia del 95% y\", degrees_of_freedom, \"grados de libertad\")\n",
        "\n",
        "# Cálculo del estadístico chi-cuadrado\n",
        "for i in range(5):\n",
        "    diff_freqs[i] = observed_freqs[i] - expected_freqs[i]  # Diferencia entre observada y esperada\n",
        "    diff_freqs_squared[i] = diff_freqs[i] ** 2  # Cuadrado de la diferencia\n",
        "    quotient_diff_squared_expected[i] = diff_freqs_squared[i] / expected_freqs[i]  # Cociente\n",
        "    chi_square_sum += quotient_diff_squared_expected[i]  # Suma para el estadístico chi^2\n",
        "\n",
        "# Creación de la tabla con tabulate\n",
        "intervals = [\"(0 - 0.19999)\", \"(0.2 - 0.39999)\", \"(0.4 - 0.59999)\", \"(0.6 - 0.79999)\", \"(0.8 - 1.0)\"]\n",
        "data_table = list(zip(intervals, observed_freqs, expected_freqs, diff_freqs, diff_freqs_squared, quotient_diff_squared_expected))\n",
        "data_table.append([\"chi^2\", \"\", \"\", \"\", \"\", chi_square_sum])\n",
        "\n",
        "print(tabulate.tabulate(data_table, headers=[\"Intervalo\", \"f_obs\", \"f_esp\", \"f_obs - f_esp\", \"(f_obs - f_esp)^2\", \"((f_obs - f_esp)^2 / f_esp)\", \"chi^2\"], tablefmt=\"grid\"))\n",
        "\n",
        "# Evaluación de la hipótesis nula\n",
        "if chi_square_sum <= critical_value:\n",
        "    print(\"Dado que:\", chi_square_sum, \"<\", critical_value, \"\\n = chi^2 < Valor critico\",\"\\n No se rechaza la hipótesis nula H_0\")\n",
        "    print(\"H_0: No hay diferencia entre las proporciones de cada número\")\n",
        "else:\n",
        "    print(\"Dado que:\", chi_square_sum, \">\", critical_value, \"\\n Se rechaza la hipótesis nula H_0 y se acepta la hipótesis alternativa H_a\")\n",
        "    print(\"H_0: No hay diferencia entre las proporciones de cada número\")\n",
        "    print(\"H_a: Existen diferencias significativas entre las proporciones de cada número\")"
      ]
    }
  ]
}