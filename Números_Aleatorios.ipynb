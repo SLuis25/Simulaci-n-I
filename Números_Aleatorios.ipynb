{
  "nbformat": 4,
  "nbformat_minor": 0,
  "metadata": {
    "colab": {
      "provenance": [],
      "authorship_tag": "ABX9TyMh8c+PbMIOOKH9IvaMUw9m",
      "include_colab_link": true
    },
    "kernelspec": {
      "name": "python3",
      "display_name": "Python 3"
    },
    "language_info": {
      "name": "python"
    }
  },
  "cells": [
    {
      "cell_type": "markdown",
      "metadata": {
        "id": "view-in-github",
        "colab_type": "text"
      },
      "source": [
        "<a href=\"https://colab.research.google.com/github/SLuis25/Simulaci-n-I/blob/main/N%C3%BAmeros_Aleatorios.ipynb\" target=\"_parent\"><img src=\"https://colab.research.google.com/assets/colab-badge.svg\" alt=\"Open In Colab\"/></a>"
      ]
    },
    {
      "cell_type": "markdown",
      "source": [
        "Números Aleatorios\n"
      ],
      "metadata": {
        "id": "FPgVMlxpWid5"
      }
    },
    {
      "cell_type": "code",
      "source": [
        "import tabulate\n",
        "a = 8\n",
        "c = 18\n",
        "m = 22\n",
        "x0 = 3\n",
        "\n",
        "def generador(a,c,m,x0):\n",
        "    x = (a*x0 + c)%m\n",
        "    return x\n",
        "\n",
        "generador(a,c,m,x0)\n",
        "\n",
        "muestra = []\n",
        "for i in range(23):\n",
        "  nuevo = generador(a,c,m,x0)\n",
        "  muestra.append([i,x0,nuevo/m])\n",
        "  x0 = nuevo\n",
        "\n",
        "encabezados = [\"i\", \"x_i\", \"x_{i+1}\"]\n",
        "print(tabulate.tabulate(muestra,headers=encabezados))"
      ],
      "metadata": {
        "id": "WDQjjW9WXwqk",
        "colab": {
          "base_uri": "https://localhost:8080/"
        },
        "outputId": "331ea419-562d-4ad5-df01-5570965016bb"
      },
      "execution_count": 25,
      "outputs": [
        {
          "output_type": "stream",
          "name": "stdout",
          "text": [
            "  i    x_i    x_{i+1}\n",
            "---  -----  ---------\n",
            "  0      3  0.909091\n",
            "  1     20  0.0909091\n",
            "  2      2  0.545455\n",
            "  3     12  0.181818\n",
            "  4      4  0.272727\n",
            "  5      6  0\n",
            "  6      0  0.818182\n",
            "  7     18  0.363636\n",
            "  8      8  0.727273\n",
            "  9     16  0.636364\n",
            " 10     14  0.909091\n",
            " 11     20  0.0909091\n",
            " 12      2  0.545455\n",
            " 13     12  0.181818\n",
            " 14      4  0.272727\n",
            " 15      6  0\n",
            " 16      0  0.818182\n",
            " 17     18  0.363636\n",
            " 18      8  0.727273\n",
            " 19     16  0.636364\n",
            " 20     14  0.909091\n",
            " 21     20  0.0909091\n",
            " 22      2  0.545455\n"
          ]
        }
      ]
    }
  ]
}