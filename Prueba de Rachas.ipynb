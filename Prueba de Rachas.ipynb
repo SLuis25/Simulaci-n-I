{
  "nbformat": 4,
  "nbformat_minor": 0,
  "metadata": {
    "colab": {
      "provenance": [],
      "authorship_tag": "ABX9TyOSE/ZMZ71Tid/pJmzaKQa6",
      "include_colab_link": true
    },
    "kernelspec": {
      "name": "python3",
      "display_name": "Python 3"
    },
    "language_info": {
      "name": "python"
    }
  },
  "cells": [
    {
      "cell_type": "markdown",
      "metadata": {
        "id": "view-in-github",
        "colab_type": "text"
      },
      "source": [
        "<a href=\"https://colab.research.google.com/github/SLuis25/Simulaci-n-I/blob/main/Prueba%20de%20Rachas.ipynb\" target=\"_parent\"><img src=\"https://colab.research.google.com/assets/colab-badge.svg\" alt=\"Open In Colab\"/></a>"
      ]
    },
    {
      "cell_type": "code",
      "execution_count": 22,
      "metadata": {
        "colab": {
          "base_uri": "https://localhost:8080/"
        },
        "id": "MQEBO_SJq8NJ",
        "outputId": "f57e5e58-3943-4f04-b57f-bee5dbcb48c2"
      },
      "outputs": [
        {
          "output_type": "stream",
          "name": "stdout",
          "text": [
            "Número de rachas observadas: 16\n",
            "Media: 16.333333333333332\n",
            "Varianza: 4.122222222222222\n",
            "Z: -0.16417727582577904\n",
            "No se  rechaza la hipótesis nula H0.\n"
          ]
        }
      ],
      "source": [
        "import numpy as np\n",
        "import scipy.stats as stats\n",
        "\n",
        "# Datos de la muestra\n",
        "muestra = [0.048, 0.926, 0.368, 0.787, 0.298,\n",
        "        0.591, 0.007, 0.437, 0.594, 0.199,\n",
        "        0.478, 0.551, 0.178, 0.086, 0.157,\n",
        "        0.166, 0.362, 0.411, 0.951, 0.401,\n",
        "        0.932, 0.533, 0.545, 0.772, 0.631]\n",
        "\n",
        "# Convertir los datos en una secuencia binaria basada en el criterio de comparación con el valor anterior\n",
        "binary_sequence = []\n",
        "for i in range(1, len(muestra)):\n",
        "    if muestra[i] < muestra[i-1]:\n",
        "        binary_sequence.append(1)\n",
        "    else:\n",
        "        binary_sequence.append(0)\n",
        "\n",
        "# Contar el número de rachas\n",
        "num_rachas = 1  # Inicializamos con 1 para contar la primera racha\n",
        "for i in range(1, len(binary_sequence)):\n",
        "    if binary_sequence[i] != binary_sequence[i-1]:\n",
        "        num_rachas += 1\n",
        "\n",
        "# Contar los datos de la muestra\n",
        "n = len(muestra)\n",
        "\n",
        "# Calcular el número esperado de rachas\n",
        "media = (2 * n - 1) /3\n",
        "\n",
        "# Calcular la varianza\n",
        "varianza = (16 * n - 29)/90\n",
        "\n",
        "# Calcular Z\n",
        "Z = (num_rachas - media) / np.sqrt(varianza)\n",
        "\n",
        "# Mostrar los resultados\n",
        "print(f\"Número de rachas observadas: {num_rachas}\")\n",
        "print(f\"Media: {media}\")\n",
        "print(f\"Varianza: {varianza}\")\n",
        "print(f\"Z: {Z}\")\n",
        "\n",
        "# Interpretación del resultado\n",
        "alpha = 0.05  # Nivel de significancia\n",
        "if -1.96 <= Z <= 1.96:\n",
        "    print(\"No se  rechaza la hipótesis nula H0.\")\n",
        "else:\n",
        "    print(\"Se rechaza la hipótesis nula.\")"
      ]
    }
  ]
}