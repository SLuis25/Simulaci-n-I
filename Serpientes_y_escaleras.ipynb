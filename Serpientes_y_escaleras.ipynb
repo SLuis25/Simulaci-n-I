{
  "nbformat": 4,
  "nbformat_minor": 0,
  "metadata": {
    "colab": {
      "provenance": [],
      "authorship_tag": "ABX9TyM8vU6fqZKImSQE7+SQj9ts",
      "include_colab_link": true
    },
    "kernelspec": {
      "name": "python3",
      "display_name": "Python 3"
    },
    "language_info": {
      "name": "python"
    }
  },
  "cells": [
    {
      "cell_type": "markdown",
      "metadata": {
        "id": "view-in-github",
        "colab_type": "text"
      },
      "source": [
        "<a href=\"https://colab.research.google.com/github/SLuis25/Simulaci-n-I/blob/main/Serpientes_y_escaleras.ipynb\" target=\"_parent\"><img src=\"https://colab.research.google.com/assets/colab-badge.svg\" alt=\"Open In Colab\"/></a>"
      ]
    },
    {
      "cell_type": "code",
      "source": [
        "import random\n",
        "import numpy as np"
      ],
      "metadata": {
        "id": "KDDNd_K4KsxE"
      },
      "execution_count": 13,
      "outputs": []
    },
    {
      "cell_type": "code",
      "execution_count": 15,
      "metadata": {
        "colab": {
          "base_uri": "https://localhost:8080/"
        },
        "id": "M4KyLakAKKl-",
        "outputId": "47c38ad9-bb03-43f9-e39d-ed4e000c5023"
      },
      "outputs": [
        {
          "output_type": "stream",
          "name": "stdout",
          "text": [
            "numero total de tiros: 4\n",
            "numero total de tiros: 5\n",
            "numero total de tiros: 8\n",
            "numero total de tiros: 6\n",
            "numero total de tiros: 4\n",
            "numero total de tiros: 5\n",
            "numero total de tiros: 7\n",
            "numero total de tiros: 12\n",
            "numero total de tiros: 12\n",
            "numero total de tiros: 7\n",
            "numero total de tiros: 7\n",
            "numero total de tiros: 5\n",
            "numero total de tiros: 9\n",
            "numero total de tiros: 5\n",
            "numero total de tiros: 10\n",
            "numero total de tiros: 7\n",
            "numero total de tiros: 9\n",
            "numero total de tiros: 6\n",
            "numero total de tiros: 5\n",
            "numero total de tiros: 5\n",
            "numero total de tiros: 8\n",
            "numero total de tiros: 6\n",
            "numero total de tiros: 7\n",
            "numero total de tiros: 5\n",
            "numero total de tiros: 8\n",
            "numero total de tiros: 12\n",
            "numero total de tiros: 8\n",
            "numero total de tiros: 11\n",
            "numero total de tiros: 18\n",
            "numero total de tiros: 5\n",
            "numero total de tiros: 8\n",
            "numero total de tiros: 6\n",
            "numero total de tiros: 4\n",
            "numero total de tiros: 4\n",
            "numero total de tiros: 22\n",
            "numero total de tiros: 6\n",
            "numero total de tiros: 9\n",
            "numero total de tiros: 8\n",
            "numero total de tiros: 10\n",
            "numero total de tiros: 8\n",
            "numero total de tiros: 12\n",
            "numero total de tiros: 6\n",
            "numero total de tiros: 11\n",
            "numero total de tiros: 5\n",
            "numero total de tiros: 7\n",
            "numero total de tiros: 4\n",
            "numero total de tiros: 6\n",
            "numero total de tiros: 4\n",
            "numero total de tiros: 6\n",
            "numero total de tiros: 6\n",
            "sumatoria:  378\n"
          ]
        },
        {
          "output_type": "execute_result",
          "data": {
            "text/plain": [
              "('promedio de tiros para ganar: ', 7.56)"
            ]
          },
          "metadata": {},
          "execution_count": 15
        }
      ],
      "source": [
        "def dado(m):\n",
        "  sumatoria = 0\n",
        "  for i in range (m):\n",
        "    casilla =0\n",
        "    n=0\n",
        "    tiro =0\n",
        "    while casilla <20:\n",
        "      tiro = random.randint(1,6)\n",
        "      casilla = casilla + tiro\n",
        "      if casilla == 3:\n",
        "        casilla = 11\n",
        "      if casilla == 15:\n",
        "        casilla = 19\n",
        "      if casilla == 13:\n",
        "        casilla = 4\n",
        "      if casilla == 17:\n",
        "        casilla = 10\n",
        "      if casilla > 20:\n",
        "        casilla = 20\n",
        "      n= n+1\n",
        "\n",
        "      #print(\"dado: \", tiro)\n",
        "      #print(\"casilla: \", casilla)\n",
        "      #print(\"numero de tiros:\", n)\n",
        "\n",
        "    print(\"numero total de tiros:\", n)\n",
        "    sumatoria = sumatoria + n\n",
        "  print(\"sumatoria: \", sumatoria)\n",
        "  prom= sumatoria/m\n",
        "  return(\"promedio de tiros para ganar: \", prom)\n",
        "\n",
        "dado(50)"
      ]
    }
  ]
}