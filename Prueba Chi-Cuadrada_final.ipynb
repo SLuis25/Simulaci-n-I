{
  "nbformat": 4,
  "nbformat_minor": 0,
  "metadata": {
    "colab": {
      "provenance": [],
      "authorship_tag": "ABX9TyOS4ypPb+zquFOWsl+aqByD",
      "include_colab_link": true
    },
    "kernelspec": {
      "name": "python3",
      "display_name": "Python 3"
    },
    "language_info": {
      "name": "python"
    }
  },
  "cells": [
    {
      "cell_type": "markdown",
      "metadata": {
        "id": "view-in-github",
        "colab_type": "text"
      },
      "source": [
        "<a href=\"https://colab.research.google.com/github/SLuis25/Simulaci-n-I/blob/main/Prueba%20Chi-Cuadrada_final.ipynb\" target=\"_parent\"><img src=\"https://colab.research.google.com/assets/colab-badge.svg\" alt=\"Open In Colab\"/></a>"
      ]
    },
    {
      "cell_type": "code",
      "execution_count": 11,
      "metadata": {
        "colab": {
          "base_uri": "https://localhost:8080/"
        },
        "id": "8p0Vs9yvXyIQ",
        "outputId": "ba1568ee-cd67-46af-e1f1-a2b283f7284c"
      },
      "outputs": [
        {
          "output_type": "stream",
          "name": "stdout",
          "text": [
            "El valor crítico es: 9.487729036781154 con un nivel de significancia del 95% y 4 grados de libertad\n",
            "+-----------------+---------+---------+-----------------+---------------------+-------------------------------+\n",
            "| Intervalo       | f_obs   | f_esp   | f_obs - f_esp   | (f_obs - f_esp)^2   |   ((f_obs - f_esp)^2 / f_esp) |\n",
            "+=================+=========+=========+=================+=====================+===============================+\n",
            "| (0 - 0.19999)   | 7       | 5       | 2               | 4                   |                           0.8 |\n",
            "+-----------------+---------+---------+-----------------+---------------------+-------------------------------+\n",
            "| (0.2 - 0.39999) | 3       | 5       | -2              | 4                   |                           0.8 |\n",
            "+-----------------+---------+---------+-----------------+---------------------+-------------------------------+\n",
            "| (0.4 - 0.59999) | 9       | 5       | 4               | 16                  |                           3.2 |\n",
            "+-----------------+---------+---------+-----------------+---------------------+-------------------------------+\n",
            "| (0.6 - 0.79999) | 3       | 5       | -2              | 4                   |                           0.8 |\n",
            "+-----------------+---------+---------+-----------------+---------------------+-------------------------------+\n",
            "| (0.8 - 1.0)     | 3       | 5       | -2              | 4                   |                           0.8 |\n",
            "+-----------------+---------+---------+-----------------+---------------------+-------------------------------+\n",
            "| chi^2           |         |         |                 |                     |                           6.4 |\n",
            "+-----------------+---------+---------+-----------------+---------------------+-------------------------------+\n",
            "Dado que: 6.4 < 9.487729036781154 \n",
            " = chi^2 < Valor critico \n",
            " No se rechaza la hipótesis nula H_0\n",
            "H_0: No hay diferencia entre las proporciones de cada número\n"
          ]
        }
      ],
      "source": [
        "import tabulate\n",
        "import matplotlib.pyplot as plt\n",
        "import numpy as np\n",
        "from scipy.stats import chi2\n",
        "\n",
        "# Definición de las variables\n",
        "frec_1 = 0\n",
        "frec_2 = 0\n",
        "frec_3 = 0\n",
        "frec_4 = 0\n",
        "frec_5 = 0\n",
        "\n",
        "observadas_frecs = [frec_1, frec_2, frec_3, frec_4, frec_5]\n",
        "esperadas_frecs = [5, 5, 5, 5, 5]  # Frecuencia esperada por intervalo\n",
        "\n",
        "k = 4  # Grados de libertad\n",
        "\n",
        "dif_frecs = [0, 0, 0, 0, 0]  # Diferencia entre f_observada y f_esperada\n",
        "dif_frecs_cuadrado = [0, 0, 0, 0, 0]  # Diferencia al cuadrado\n",
        "cociente_dif_cuadrado = [0, 0, 0, 0, 0]  # Cociente para el cálculo de chi-cuadrado\n",
        "chi_cuadrado_sum = 0  # Inicialización del estadístico chi-cuadrado\n",
        "\n",
        "# Lista de datos generados aleatoriamente\n",
        "muestra = [0.048, 0.591, 0.478, 0.166, 0.932,\n",
        "               0.926, 0.007, 0.551, 0.362, 0.533,\n",
        "               0.368, 0.437, 0.178, 0.411, 0.545,\n",
        "               0.787, 0.594, 0.086, 0.951, 0.772,\n",
        "               0.298, 0.199, 0.157, 0.401, 0.631]\n",
        "\n",
        "# Conteo de los números dentro de cada clase con un ciclo for\n",
        "for value in muestra:\n",
        "    if 0 < value < 0.19999:\n",
        "        frec_1 += 1\n",
        "    elif 0.2 < value < 0.39999:\n",
        "        frec_2 += 1\n",
        "    elif 0.4 < value < 0.59999:\n",
        "        frec_3 += 1\n",
        "    elif 0.6 < value < 0.79999:\n",
        "        frec_4 += 1\n",
        "    else:\n",
        "        frec_5 += 1\n",
        "\n",
        "# Asignamos las frecuencias observadas a la lista\n",
        "observadas_frecs[0] = frec_1\n",
        "observadas_frecs[1] = frec_2\n",
        "observadas_frecs[2] = frec_3\n",
        "observadas_frecs[3] = frec_4\n",
        "observadas_frecs[4] = frec_5\n",
        "\n",
        "# Cálculo del valor crítico del chi-cuadrado para 95% de confianza\n",
        "valor_critico = chi2.ppf(0.95, k)\n",
        "print(\"El valor crítico es:\", valor_critico, \"con un nivel de significancia del 95% y\", k, \"grados de libertad\")\n",
        "\n",
        "# Cálculo del estadístico chi-cuadrado\n",
        "for i in range(5):\n",
        "    dif_frecs[i] = observadas_frecs[i] - esperadas_frecs[i]  # Diferencia entre observada y esperada\n",
        "    dif_frecs_cuadrado[i] = dif_frecs[i] ** 2  # Cuadrado de la diferencia\n",
        "    cociente_dif_cuadrado[i] = dif_frecs_cuadrado[i] / esperadas_frecs[i]  # Cociente\n",
        "    chi_cuadrado_sum += cociente_dif_cuadrado[i]  # Suma para el estadístico chi^2\n",
        "\n",
        "# Creación de la tabla con tabulate\n",
        "intervals = [\"(0 - 0.19999)\", \"(0.2 - 0.39999)\", \"(0.4 - 0.59999)\", \"(0.6 - 0.79999)\", \"(0.8 - 1.0)\"]\n",
        "data_table = list(zip(intervals, observadas_frecs, esperadas_frecs, dif_frecs, dif_frecs_cuadrado, cociente_dif_cuadrado))\n",
        "data_table.append([\"chi^2\", \"\", \"\", \"\", \"\", chi_cuadrado_sum])\n",
        "\n",
        "print(tabulate.tabulate(data_table, headers=[\"Intervalo\", \"f_obs\", \"f_esp\", \"f_obs - f_esp\", \"(f_obs - f_esp)^2\", \"((f_obs - f_esp)^2 / f_esp)\", \"chi^2\"], tablefmt=\"grid\"))\n",
        "\n",
        "# Evaluación de la hipótesis nula\n",
        "if chi_cuadrado_sum <= valor_critico:\n",
        "    print(\"Dado que:\", chi_cuadrado_sum, \"<\", valor_critico, \"\\n = chi^2 < Valor critico\",\"\\n No se rechaza la hipótesis nula H_0\")\n",
        "    print(\"H_0: No hay diferencia entre las proporciones de cada número\")\n",
        "else:\n",
        "    print(\"Dado que:\", chi_cuadrado_sum, \">\", valor_critico, \"\\n Se rechaza la hipótesis nula H_0 y se acepta la hipótesis alternativa H_a\")\n",
        "    print(\"H_0: No hay diferencia entre las proporciones de cada número\")\n",
        "    print(\"H_a: Existen diferencias significativas entre las proporciones de cada número\")"
      ]
    }
  ]
}