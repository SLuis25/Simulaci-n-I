{
  "nbformat": 4,
  "nbformat_minor": 0,
  "metadata": {
    "colab": {
      "provenance": [],
      "authorship_tag": "ABX9TyMKrFJeChfWPU/LtO72JW3k",
      "include_colab_link": true
    },
    "kernelspec": {
      "name": "python3",
      "display_name": "Python 3"
    },
    "language_info": {
      "name": "python"
    }
  },
  "cells": [
    {
      "cell_type": "markdown",
      "metadata": {
        "id": "view-in-github",
        "colab_type": "text"
      },
      "source": [
        "<a href=\"https://colab.research.google.com/github/SLuis25/Simulaci-n-I/blob/main/Prueba%20K-S.ipynb\" target=\"_parent\"><img src=\"https://colab.research.google.com/assets/colab-badge.svg\" alt=\"Open In Colab\"/></a>"
      ]
    },
    {
      "cell_type": "code",
      "source": [
        "import numpy as np\n",
        "from scipy.stats import ks_1samp, uniform\n",
        "from tabulate import tabulate\n",
        "\n",
        "# Datos de números aleatorios extraídos de la imagen\n",
        "numeros_aleatorios = [0.048, 0.591, 0.478, 0.166, 0.932,\n",
        "                      0.926, 0.007, 0.551, 0.362, 0.533,\n",
        "                      0.368, 0.437, 0.178, 0.411, 0.545,\n",
        "                      0.787, 0.594, 0.086, 0.951, 0.772,\n",
        "                      0.298, 0.199, 0.157, 0.401, 0.631]\n",
        "\n",
        "# Ordenar los números de menor a mayor\n",
        "numeros_aleatorios.sort()\n",
        "\n",
        "# Número total de datos\n",
        "n = len(numeros_aleatorios)\n",
        "\n",
        "# Calcular valores de la tabla\n",
        "tabla_datos = []\n",
        "for i, X_i in enumerate(numeros_aleatorios, start=1):\n",
        "    i_n = i / n  # Cálculo de i/n\n",
        "    d_plus = (i_n - X_i)\n",
        "    d_minus = (X_i - (i - 1) / n)\n",
        "    tabla_datos.append([i, round(X_i, 4), round(i_n, 4), round(d_plus, 4), round(d_minus, 4)])\n",
        "\n",
        "# Mostrar la tabla con todos los datos\n",
        "print(tabulate(tabla_datos, headers=[\"i\", \"X_i\", \"i/n\", \"i/n - X_i\", \"X_i - (i-1)/n\"], tablefmt=\"grid\"))\n",
        "\n",
        "# Prueba KS para uniformidad U(0,1)\n",
        "D, p_value = ks_1samp(numeros_aleatorios, uniform.cdf)\n",
        "\n",
        "# Calcular valor crítico D_alpha_n para α = 0.05\n",
        "D_alpha_n = 0.264 # Valor obtenido de tablas\n",
        "\n",
        "# Mostrar resultados finales\n",
        "print(f\"\\nEstadístico D_n: {D:.4f}\")\n",
        "print(f\"Valor crítico D_alpha_n: {D_alpha_n:.4f}\")\n",
        "\n",
        "# Conclusión\n",
        "if D > D_alpha_n:\n",
        "    print(\"Rechazamos H₀: Los números NO siguen una distribución uniforme.\")\n",
        "else:\n",
        "    print(\"No se rechaza la hipótesis nula H₀.\\nLos números tienen una distribución uniforme.\")"
      ],
      "metadata": {
        "colab": {
          "base_uri": "https://localhost:8080/"
        },
        "id": "e4FtuoApGzdN",
        "outputId": "aa6652ff-4bed-48dd-8f8b-240e7d2e8d39"
      },
      "execution_count": null,
      "outputs": [
        {
          "output_type": "stream",
          "name": "stdout",
          "text": [
            "+-----+-------+-------+-------------+-----------------+\n",
            "|   i |   X_i |   i/n |   i/n - X_i |   X_i - (i-1)/n |\n",
            "+=====+=======+=======+=============+=================+\n",
            "|   1 | 0.007 |  0.04 |       0.033 |           0.007 |\n",
            "+-----+-------+-------+-------------+-----------------+\n",
            "|   2 | 0.048 |  0.08 |       0.032 |           0.008 |\n",
            "+-----+-------+-------+-------------+-----------------+\n",
            "|   3 | 0.086 |  0.12 |       0.034 |           0.006 |\n",
            "+-----+-------+-------+-------------+-----------------+\n",
            "|   4 | 0.157 |  0.16 |       0.003 |           0.037 |\n",
            "+-----+-------+-------+-------------+-----------------+\n",
            "|   5 | 0.166 |  0.2  |       0.034 |           0.006 |\n",
            "+-----+-------+-------+-------------+-----------------+\n",
            "|   6 | 0.178 |  0.24 |       0.062 |          -0.022 |\n",
            "+-----+-------+-------+-------------+-----------------+\n",
            "|   7 | 0.199 |  0.28 |       0.081 |          -0.041 |\n",
            "+-----+-------+-------+-------------+-----------------+\n",
            "|   8 | 0.298 |  0.32 |       0.022 |           0.018 |\n",
            "+-----+-------+-------+-------------+-----------------+\n",
            "|   9 | 0.362 |  0.36 |      -0.002 |           0.042 |\n",
            "+-----+-------+-------+-------------+-----------------+\n",
            "|  10 | 0.368 |  0.4  |       0.032 |           0.008 |\n",
            "+-----+-------+-------+-------------+-----------------+\n",
            "|  11 | 0.401 |  0.44 |       0.039 |           0.001 |\n",
            "+-----+-------+-------+-------------+-----------------+\n",
            "|  12 | 0.411 |  0.48 |       0.069 |          -0.029 |\n",
            "+-----+-------+-------+-------------+-----------------+\n",
            "|  13 | 0.437 |  0.52 |       0.083 |          -0.043 |\n",
            "+-----+-------+-------+-------------+-----------------+\n",
            "|  14 | 0.478 |  0.56 |       0.082 |          -0.042 |\n",
            "+-----+-------+-------+-------------+-----------------+\n",
            "|  15 | 0.533 |  0.6  |       0.067 |          -0.027 |\n",
            "+-----+-------+-------+-------------+-----------------+\n",
            "|  16 | 0.545 |  0.64 |       0.095 |          -0.055 |\n",
            "+-----+-------+-------+-------------+-----------------+\n",
            "|  17 | 0.551 |  0.68 |       0.129 |          -0.089 |\n",
            "+-----+-------+-------+-------------+-----------------+\n",
            "|  18 | 0.591 |  0.72 |       0.129 |          -0.089 |\n",
            "+-----+-------+-------+-------------+-----------------+\n",
            "|  19 | 0.594 |  0.76 |       0.166 |          -0.126 |\n",
            "+-----+-------+-------+-------------+-----------------+\n",
            "|  20 | 0.631 |  0.8  |       0.169 |          -0.129 |\n",
            "+-----+-------+-------+-------------+-----------------+\n",
            "|  21 | 0.772 |  0.84 |       0.068 |          -0.028 |\n",
            "+-----+-------+-------+-------------+-----------------+\n",
            "|  22 | 0.787 |  0.88 |       0.093 |          -0.053 |\n",
            "+-----+-------+-------+-------------+-----------------+\n",
            "|  23 | 0.926 |  0.92 |      -0.006 |           0.046 |\n",
            "+-----+-------+-------+-------------+-----------------+\n",
            "|  24 | 0.932 |  0.96 |       0.028 |           0.012 |\n",
            "+-----+-------+-------+-------------+-----------------+\n",
            "|  25 | 0.951 |  1    |       0.049 |          -0.009 |\n",
            "+-----+-------+-------+-------------+-----------------+\n",
            "\n",
            "Estadístico D_n: 0.1690\n",
            "Valor crítico D_alpha_n: 0.2640\n",
            "No se rechaza la hipótesis nula H₀.\n",
            "Los números tienen una distribución uniforme.\n"
          ]
        }
      ]
    }
  ]
}